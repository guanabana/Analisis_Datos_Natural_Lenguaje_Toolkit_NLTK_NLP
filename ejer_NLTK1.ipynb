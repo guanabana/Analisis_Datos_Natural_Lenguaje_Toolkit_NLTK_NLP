{
 "cells": [
  {
   "cell_type": "code",
   "execution_count": 1,
   "id": "e06651a9-0500-4b7c-b435-43b4f550cba2",
   "metadata": {},
   "outputs": [],
   "source": [
    "# TÉCNICA DE ANALISIS DE DATOS TRADICIONAL\n",
    "# PNL - TOKENIZACION - SGEMANTAR ORACIONES -ETIQUETADO\n",
    "import nltk\n",
    "\n"
   ]
  },
  {
   "cell_type": "code",
   "execution_count": 4,
   "id": "799992a5-7291-4453-bc8d-0cb4c80d9f59",
   "metadata": {},
   "outputs": [
    {
     "name": "stdout",
     "output_type": "stream",
     "text": [
      "Tokens: ['En', 'un', 'tranquilo', 'valle', 'rodeado', 'de', 'majestuosas', 'montañas', 'y', 'frondosos', 'bosques', ',', 'se', 'encuentra', 'un', 'pintoresco', 'pueblo', 'donde', 'el', 'tiempo', 'parece', 'detenerse', '.', 'Sus', 'calles', 'empedradas', 'serpentean', 'entre', 'casas', 'de', 'adobe', 'y', 'coloridas', 'fachadas', ',', 'mientras', 'el', 'aroma', 'a', 'pan', 'recién', 'horneado', 'y', 'café', 'recorre', 'el', 'aire', '.', 'Los', 'lugareños', ',', 'con', 'su', 'amabilidad', 'característica', ',', 'dan', 'la', 'bienvenida', 'a', 'los', 'visitantes', 'con', 'sonrisas', 'cálidas', 'y', 'relatos', 'de', 'tiempos', 'pasados', '.', 'En', 'las', 'plazas', 'sombreadas', ',', 'niños', 'juegan', 'alegremente', 'mientras', 'adultos', 'conversan', 'apaciblemente', 'bajo', 'la', 'sombra', 'de', 'árboles', 'centenarios', '.', 'En', 'este', 'remanso', 'de', 'paz', ',', 'la', 'vida', 'transcurre', 'en', 'armonía', 'con', 'la', 'naturaleza', ',', 'recordándonos', 'la', 'belleza', 'y', 'la', 'simplicidad', 'de', 'las', 'cosas', 'pequeñas', 'en', 'un', 'mundo', 'tan', 'acelerado', 'y', 'tumultuoso', '.']\n",
      "--------------------\n",
      "Sentencias: ['\\nEn un tranquilo valle rodeado de majestuosas montañas y frondosos bosques, \\nse encuentra un pintoresco pueblo donde el tiempo parece detenerse.', 'Sus calles empedradas serpentean \\nentre casas de adobe y coloridas fachadas, mientras el aroma a pan recién horneado y café recorre el aire.', 'Los lugareños, con su amabilidad característica, dan la bienvenida a los visitantes \\ncon sonrisas cálidas y relatos de tiempos pasados.', 'En las plazas sombreadas, niños \\njuegan alegremente mientras adultos conversan apaciblemente bajo la sombra de árboles centenarios.', 'En este remanso de paz, la vida transcurre en armonía con la naturaleza, recordándonos la belleza y \\nla simplicidad de las cosas pequeñas en un mundo tan acelerado y tumultuoso.']\n"
     ]
    },
    {
     "name": "stderr",
     "output_type": "stream",
     "text": [
      "[nltk_data] Downloading package punkt to\n",
      "[nltk_data]     C:\\Users\\Administrador\\AppData\\Roaming\\nltk_data...\n",
      "[nltk_data]   Package punkt is already up-to-date!\n",
      "[nltk_data] Downloading package wordnet to\n",
      "[nltk_data]     C:\\Users\\Administrador\\AppData\\Roaming\\nltk_data...\n",
      "[nltk_data]   Package wordnet is already up-to-date!\n"
     ]
    }
   ],
   "source": [
    "nltk.download('punkt')\n",
    "nltk.download('wordnet')\n",
    "from nltk.tokenize import word_tokenize, sent_tokenize\n",
    "\n",
    "text = \"\"\"\n",
    "En un tranquilo valle rodeado de majestuosas montañas y frondosos bosques, \n",
    "se encuentra un pintoresco pueblo donde el tiempo parece detenerse. Sus calles empedradas serpentean \n",
    "entre casas de adobe y coloridas fachadas, mientras el aroma a pan recién horneado y café recorre el aire. \n",
    "Los lugareños, con su amabilidad característica, dan la bienvenida a los visitantes \n",
    "con sonrisas cálidas y relatos de tiempos pasados. En las plazas sombreadas, niños \n",
    "juegan alegremente mientras adultos conversan apaciblemente bajo la sombra de árboles centenarios. \n",
    "En este remanso de paz, la vida transcurre en armonía con la naturaleza, recordándonos la belleza y \n",
    "la simplicidad de las cosas pequeñas en un mundo tan acelerado y tumultuoso.\n",
    "\"\"\"\n",
    "\n",
    "tokens = word_tokenize(text)\n",
    "sentences = sent_tokenize(text)\n",
    "\n",
    "print(\"Tokens:\", tokens)\n",
    "print(\"--------------------\")\n",
    "print(\"Sentencias:\", sentences)"
   ]
  },
  {
   "cell_type": "code",
   "execution_count": 5,
   "id": "1c23f236-a98d-4a1d-b6e9-95e633c39bd4",
   "metadata": {},
   "outputs": [
    {
     "name": "stdout",
     "output_type": "stream",
     "text": [
      "Tokens filtrados: ['tranquilo', 'valle', 'rodeado', 'majestuosas', 'montañas', 'frondosos', 'bosques', ',', 'encuentra', 'pintoresco', 'pueblo', 'tiempo', 'parece', 'detenerse', '.', 'calles', 'empedradas', 'serpentean', 'casas', 'adobe', 'coloridas', 'fachadas', ',', 'mientras', 'aroma', 'pan', 'recién', 'horneado', 'café', 'recorre', 'aire', '.', 'lugareños', ',', 'amabilidad', 'característica', ',', 'dan', 'bienvenida', 'visitantes', 'sonrisas', 'cálidas', 'relatos', 'tiempos', 'pasados', '.', 'plazas', 'sombreadas', ',', 'niños', 'juegan', 'alegremente', 'mientras', 'adultos', 'conversan', 'apaciblemente', 'bajo', 'sombra', 'árboles', 'centenarios', '.', 'remanso', 'paz', ',', 'vida', 'transcurre', 'armonía', 'naturaleza', ',', 'recordándonos', 'belleza', 'simplicidad', 'cosas', 'pequeñas', 'mundo', 'tan', 'acelerado', 'tumultuoso', '.']\n"
     ]
    },
    {
     "name": "stderr",
     "output_type": "stream",
     "text": [
      "[nltk_data] Downloading package stopwords to\n",
      "[nltk_data]     C:\\Users\\Administrador\\AppData\\Roaming\\nltk_data...\n",
      "[nltk_data]   Package stopwords is already up-to-date!\n"
     ]
    }
   ],
   "source": [
    "from nltk.corpus import stopwords\n",
    "\n",
    "nltk.download('stopwords')\n",
    "stop_words = set(stopwords.words('spanish'))\n",
    "\n",
    "filtered_tokens = [word for word in tokens if word.lower() not in stop_words]\n",
    "print(\"Tokens filtrados:\", filtered_tokens)"
   ]
  },
  {
   "cell_type": "code",
   "execution_count": 6,
   "id": "22022d4a-4fa8-4ad9-81b0-8e2622f4adcd",
   "metadata": {},
   "outputs": [
    {
     "name": "stdout",
     "output_type": "stream",
     "text": [
      "Palabras derivadas (stemmed): ['tranquilo', 'vall', 'rodeado', 'majestuosa', 'montaña', 'frondoso', 'bosqu', ',', 'encuentra', 'pintoresco', 'pueblo', 'tiempo', 'parec', 'deteners', '.', 'call', 'empedrada', 'serpentean', 'casa', 'adob', 'colorida', 'fachada', ',', 'mientra', 'aroma', 'pan', 'recién', 'horneado', 'café', 'recorr', 'air', '.', 'lugareño', ',', 'amabilidad', 'característica', ',', 'dan', 'bienvenida', 'visitant', 'sonrisa', 'cálida', 'relato', 'tiempo', 'pasado', '.', 'plaza', 'sombreada', ',', 'niño', 'juegan', 'alegrement', 'mientra', 'adulto', 'conversan', 'apaciblement', 'bajo', 'sombra', 'árbole', 'centenario', '.', 'remanso', 'paz', ',', 'vida', 'transcurr', 'armonía', 'naturaleza', ',', 'recordándono', 'belleza', 'simplicidad', 'cosa', 'pequeña', 'mundo', 'tan', 'acelerado', 'tumultuoso', '.']\n",
      "Palabras lematizadas: ['tranquilo', 'valle', 'rodeado', 'majestuosas', 'montañas', 'frondosos', 'bosques', ',', 'encuentra', 'pintoresco', 'pueblo', 'tiempo', 'parece', 'detenerse', '.', 'calles', 'empedradas', 'serpentean', 'casas', 'adobe', 'coloridas', 'fachadas', ',', 'mientras', 'aroma', 'pan', 'recién', 'horneado', 'café', 'recorre', 'aire', '.', 'lugareños', ',', 'amabilidad', 'característica', ',', 'dan', 'bienvenida', 'visitantes', 'sonrisas', 'cálidas', 'relatos', 'tiempos', 'pasados', '.', 'plaza', 'sombreadas', ',', 'niños', 'juegan', 'alegremente', 'mientras', 'adultos', 'conversan', 'apaciblemente', 'bajo', 'sombra', 'árboles', 'centenarios', '.', 'remanso', 'paz', ',', 'vida', 'transcurre', 'armonía', 'naturaleza', ',', 'recordándonos', 'belleza', 'simplicidad', 'cosas', 'pequeñas', 'mundo', 'tan', 'acelerado', 'tumultuoso', '.']\n"
     ]
    }
   ],
   "source": [
    "from nltk.stem import PorterStemmer, WordNetLemmatizer\n",
    "\n",
    "ps = PorterStemmer()\n",
    "lemmatizer = WordNetLemmatizer()\n",
    "\n",
    "stemmed_words = [ps.stem(word) for word in filtered_tokens]\n",
    "lemmatized_words = [lemmatizer.lemmatize(word) for word in filtered_tokens]\n",
    "\n",
    "print(\"Palabras derivadas (stemmed):\", stemmed_words)\n",
    "print(\"Palabras lematizadas:\", lemmatized_words)"
   ]
  },
  {
   "cell_type": "code",
   "execution_count": 7,
   "id": "4c7e7be4-3d35-42cd-ba2b-ca7ab41e07b9",
   "metadata": {},
   "outputs": [
    {
     "name": "stdout",
     "output_type": "stream",
     "text": [
      "Palabras más frecuentes: [(',', 7), ('.', 5), ('mientras', 2), ('tranquilo', 1), ('valle', 1)]\n"
     ]
    }
   ],
   "source": [
    "from nltk.probability import FreqDist\n",
    "\n",
    "fdist = FreqDist(filtered_tokens)\n",
    "print(\"Palabras más frecuentes:\", fdist.most_common(5))"
   ]
  },
  {
   "cell_type": "code",
   "execution_count": 8,
   "id": "1afcf700-3054-4154-89a8-3330ec460412",
   "metadata": {},
   "outputs": [
    {
     "name": "stdout",
     "output_type": "stream",
     "text": [
      "[('tranquilo', 'NN'), ('valle', 'NN'), ('rodeado', 'NN'), ('majestuosas', 'NN'), ('montañas', 'NN'), ('frondosos', 'NN'), ('bosques', 'NNS'), (',', ','), ('encuentra', 'JJ'), ('pintoresco', 'NN'), ('pueblo', 'NN'), ('tiempo', 'JJ'), ('parece', 'NN'), ('detenerse', 'NN'), ('.', '.'), ('calles', 'NNS'), ('empedradas', 'VBP'), ('serpentean', 'JJ'), ('casas', 'NN'), ('adobe', 'NN'), ('coloridas', 'NN'), ('fachadas', 'NN'), (',', ','), ('mientras', 'FW'), ('aroma', 'RB'), ('pan', 'VBP'), ('recién', 'VBP'), ('horneado', 'JJ'), ('café', 'NN'), ('recorre', 'NN'), ('aire', 'NN'), ('.', '.'), ('lugareños', 'NN'), (',', ','), ('amabilidad', 'NN'), ('característica', 'NN'), (',', ','), ('dan', 'NN'), ('bienvenida', 'NN'), ('visitantes', 'VBZ'), ('sonrisas', 'JJ'), ('cálidas', 'NNS'), ('relatos', 'VBP'), ('tiempos', 'JJ'), ('pasados', 'NN'), ('.', '.'), ('plazas', 'NN'), ('sombreadas', 'NN'), (',', ','), ('niños', 'JJ'), ('juegan', 'NN'), ('alegremente', 'NN'), ('mientras', 'FW'), ('adultos', 'NN'), ('conversan', 'NN'), ('apaciblemente', 'NN'), ('bajo', 'NN'), ('sombra', 'NN'), ('árboles', 'VBZ'), ('centenarios', 'NNS'), ('.', '.'), ('remanso', 'NN'), ('paz', 'NN'), (',', ','), ('vida', 'FW'), ('transcurre', 'JJ'), ('armonía', 'NN'), ('naturaleza', 'NN'), (',', ','), ('recordándonos', 'VB'), ('belleza', 'NN'), ('simplicidad', 'NN'), ('cosas', 'NN'), ('pequeñas', 'FW'), ('mundo', 'NN'), ('tan', 'NN'), ('acelerado', 'NN'), ('tumultuoso', 'NN'), ('.', '.')]\n"
     ]
    }
   ],
   "source": [
    "tagged_words = nltk.pos_tag(filtered_tokens) \n",
    "print(tagged_words)"
   ]
  },
  {
   "cell_type": "code",
   "execution_count": null,
   "id": "3b18752c-7e26-44de-b653-988dcdb71c3e",
   "metadata": {},
   "outputs": [],
   "source": []
  }
 ],
 "metadata": {
  "kernelspec": {
   "display_name": "Python 3 (ipykernel)",
   "language": "python",
   "name": "python3"
  },
  "language_info": {
   "codemirror_mode": {
    "name": "ipython",
    "version": 3
   },
   "file_extension": ".py",
   "mimetype": "text/x-python",
   "name": "python",
   "nbconvert_exporter": "python",
   "pygments_lexer": "ipython3",
   "version": "3.11.7"
  }
 },
 "nbformat": 4,
 "nbformat_minor": 5
}
